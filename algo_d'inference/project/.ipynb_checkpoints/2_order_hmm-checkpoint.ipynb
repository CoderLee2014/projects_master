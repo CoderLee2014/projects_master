{
 "cells": [
  {
   "cell_type": "code",
   "execution_count": 63,
   "metadata": {
    "collapsed": false
   },
   "outputs": [
    {
     "ename": "IndentationError",
     "evalue": "unindent does not match any outer indentation level (<ipython-input-63-59aa54be3c65>, line 107)",
     "output_type": "error",
     "traceback": [
      "\u001b[1;36m  File \u001b[1;32m\"<ipython-input-63-59aa54be3c65>\"\u001b[1;36m, line \u001b[1;32m107\u001b[0m\n\u001b[1;33m    path = newpath\u001b[0m\n\u001b[1;37m                  ^\u001b[0m\n\u001b[1;31mIndentationError\u001b[0m\u001b[1;31m:\u001b[0m unindent does not match any outer indentation level\n"
     ]
    }
   ],
   "source": [
    "from numpy import array, ones, zeros\n",
    "\n",
    "class HMM:\n",
    "    def __init__(self, state_list, observation_list, trans_start_list,\n",
    "                transition_proba_1=None, transition_proba_2=None,\n",
    "                observation_proba=None,\n",
    "                initial_state_proba=None,\n",
    "                smoothing_obs=0.01):\n",
    "        print \"HMM creating with:\"\n",
    "        self.N = len(state_list)\n",
    "        self.M = len(observation_list)\n",
    "        self.T = len(trans_start_list)\n",
    "        #self.I = len(inits_list)\n",
    "        print str(self.N)+\" states.\"\n",
    "        print str(self.M)+\" observations.\"\n",
    "        self.omega_Y = state_list\n",
    "        self.omega_X = observation_list\n",
    "        self.omega_T = trans_start_list\n",
    "        #self.omega_I = []\n",
    "        \"\"\"for i in range(26):\n",
    "            pair = ('#',chr(i+97))\n",
    "            self.omega_I.append(pair)\n",
    "        \"\"\"     \n",
    "        if transition_proba_1 is None:\n",
    "            self.transition_proba_1 = zeros((self.N,self.N),float)\n",
    "        else:\n",
    "            self.transition_proba_1 = transition_proba_1\n",
    "        if transition_proba_2 is None:\n",
    "            self.transition_proba_2 = zeros((self.N,self.T),float)\n",
    "        else:\n",
    "            self.transition_proba_2 = transition_proba_2\n",
    "        if observation_proba is None:\n",
    "            self.observation_proba = zeros((self.M, self.N), float)\n",
    "        else:\n",
    "            self.observation_proba = observation_proba\n",
    "        if initial_state_proba is None:\n",
    "            self.initial_state_proba = zeros((self.N,),float)\n",
    "        self.make_indexs()\n",
    "        self.smoothing_obs = smoothing_obs\n",
    "    \n",
    "    def make_indexs(self):\n",
    "        self.Y_index = {}\n",
    "        self.X_index = {}\n",
    "        self.T_index = {}\n",
    "        #self.I_index = {}\n",
    "        for i in range(self.N):\n",
    "            self.Y_index[self.omega_Y[i]] = i\n",
    "        for i in range(self.M):\n",
    "            self.X_index[self.omega_X[i]] = i\n",
    "        for i in range(self.T):\n",
    "            self.T_index[self.omega_T[i]] = i\n",
    "        #for i in range(len(self.omega_I)):\n",
    "         #   self.I_index[self.omega_I[i]] = i\n",
    "\n",
    "\n",
    "    def observation_estimation(self, pair_counts):\n",
    "        for pair in pair_counts:\n",
    "            letter = pair[0]\n",
    "            tag = pair[1]\n",
    "            cpt = pair_counts[pair]\n",
    "            k = 0\n",
    "            if letter in self.X_index:\n",
    "                k = self.X_index[letter]\n",
    "            i = self.Y_index[tag]\n",
    "            self.observation_proba[k,i] = cpt\n",
    "        self.observation_proba = self.observation_proba + self.smoothing_obs\n",
    "        self.observation_proba = self.observation_proba/self.observation_proba.sum(axis=0).reshape(1,self.N)\n",
    "    \n",
    "    def transition_estimation(self, trans_counts_1, trans_counts_2):\n",
    "        for pair in trans_counts_2:\n",
    "            i = self.Y_index[pair[1]]\n",
    "            j = self.T_index[pair[0]]\n",
    "            self.transition_proba_2[i,j] = trans_counts_2[pair]\n",
    "        self.transition_proba_2 = self.transition_proba_2/self.transition_proba_2.sum(axis=0).reshape(1,self.T)\n",
    "        for pair in trans_counts_1:\n",
    "            i = self.Y_index[pair[1]]\n",
    "            j = self.Y_index[pair[0]]\n",
    "            self.transition_proba_1[i,j] = trans_counts_1[pair]\n",
    "        self.transition_proba_1 = self.transition_proba_1/self.transition_proba_1.sum(axis=0).reshape(1,self.N)\n",
    "    \n",
    "    def init_estimation(self, init_counts):\n",
    "        for tag in init_counts:\n",
    "            i = self.Y_index[tag]\n",
    "            self.initial_state_proba[i] = init_counts[tag]\n",
    "        self.initial_state_proba = self.initial_state_proba/sum(self.initial_state_proba)\n",
    "    \n",
    "    def supervised_training(self, pair_counts, trans_counts_1, trans_counts_2, init_counts):\n",
    "        self.observation_estimation(pair_counts)\n",
    "        self.transition_estimation(trans_counts_1, trans_counts_2)\n",
    "        self.init_estimation(init_counts)\n",
    "\n",
    "    def viterbi(self,obs):\n",
    "        V = [{}]\n",
    "        path = {}\n",
    "        for y in range(self.N):\n",
    "            V[0][y] = self.initial_state_proba[y]* self.observation_proba[self.X_index[obs[0]],y]\n",
    "            path[y]=[y]\n",
    "       \n",
    "        for t in range(1,len(obs)):\n",
    "            V.append({})\n",
    "            newpath = {}\n",
    "            if t==1:\n",
    "                 for y in range(self.N):#\n",
    "                    (prob, state) = max([(V[t-1][y0] * self.transition_proba_1[y,y0] * self.observation_proba[self.X_index[obs[t]],y], y0) for y0 in range(self.N)])\n",
    "                    V[t][y] = prob\n",
    "                    newpath[y]=path[state]+[y]\n",
    "                path = newpath\n",
    "            else:\n",
    "                for y in range(self.N):\n",
    "                    (prob, state) = max([(V[t-2][self.Y_index[self.omega_T[y0][0]]]*self.transition_proba_2[self.Y_index[self.omega_T[y0][1]],self.Y_index[self.omega_T[y0][0]]]*self.transition_proba_1[y,self.Y_index[self.omega_T[y0][1]]]*self.observation_proba[self.X_index[obs[t]],y],self.Y_index[self.omega_T[y0][1]]) for y0 in range(self.T)])\n",
    "                    V[t][y] = prob\n",
    "                    newpath[y]=path[state]+[y]\n",
    "                path = newpath\n",
    "        (prob, state) = max([(V[len(obs)-1][state],state) for state in range(self.N)])\n",
    "        return path[state]"
   ]
  },
  {
   "cell_type": "code",
   "execution_count": null,
   "metadata": {
    "collapsed": false
   },
   "outputs": [],
   "source": [
    "import pickle\n",
    "\n",
    "with open('train10.pkl','rb') as f:\n",
    "    data = pickle.load(f)"
   ]
  },
  {
   "cell_type": "code",
   "execution_count": null,
   "metadata": {
    "collapsed": false
   },
   "outputs": [],
   "source": [
    "def make_counts(corpus):\n",
    "    c_tags = dict()\n",
    "    c_obs = dict()\n",
    "    c_trans_1 = dict()\n",
    "    c_trans_2 = dict()\n",
    "    c_pairs = dict()\n",
    "    c_inits = dict()\n",
    "    c_biobs = dict()# used to record the last two states before the state now\n",
    "    for word in corpus:\n",
    "        for i in range(len(word)):\n",
    "            pair = word[i]\n",
    "            tag = pair[1]\n",
    "            obs = pair[0]\n",
    "            if tag in c_tags:\n",
    "                c_tags[tag]+=1\n",
    "            else:\n",
    "                c_tags[tag]=1\n",
    "            if obs in c_obs:\n",
    "                c_obs[obs]+=1\n",
    "            else:\n",
    "                c_obs[obs]=1\n",
    "            if pair in c_pairs:\n",
    "                c_pairs[pair]+=1\n",
    "            else:\n",
    "                c_pairs[pair]=1\n",
    "            if i>0:\n",
    "                trans_1 = (word[i-1][1],tag)\n",
    "                if trans_1 in c_trans_1:\n",
    "                    c_trans_1[trans_1]+=1\n",
    "                else:\n",
    "                    c_trans_1[trans_1]=1\n",
    "            else:\n",
    "                init = tag\n",
    "                if init in c_inits:\n",
    "                     c_inits[init] += 1\n",
    "                else:\n",
    "                     c_inits[init] = 1\n",
    "            if i>=2:\n",
    "                bi_obs = (word[i-2][1],word[i-1][1])\n",
    "                if bi_obs in c_biobs:\n",
    "                    c_biobs[bi_obs]+=1\n",
    "                else:\n",
    "                    c_biobs[bi_obs]=1\n",
    "                trans = (bi_obs,tag)\n",
    "                if trans in c_trans_2:\n",
    "                    c_trans_2[trans]+=1\n",
    "                else:\n",
    "                    c_trans_2[trans]=1\n",
    "               \n",
    "    return c_obs, c_tags, c_pairs, c_trans_1,c_trans_2, c_inits, c_biobs\n"
   ]
  },
  {
   "cell_type": "code",
   "execution_count": null,
   "metadata": {
    "collapsed": false
   },
   "outputs": [],
   "source": [
    "c_obs, c_tags, c_pairs, c_trans_1,c_trans_2, c_inits, c_trans_start_list = make_counts(data)"
   ]
  },
  {
   "cell_type": "code",
   "execution_count": null,
   "metadata": {
    "collapsed": false
   },
   "outputs": [],
   "source": [
    "hmm = HMM(c_tags.keys(),c_obs.keys(),c_trans_start_list.keys(),transition_proba_1=None,transition_proba_2=None,\n",
    "         observation_proba=None,\n",
    "         initial_state_proba=None,smoothing_obs=0.001)\n",
    "hmm.supervised_training(c_pairs, c_trans_1, c_trans_2, c_inits)"
   ]
  },
  {
   "cell_type": "code",
   "execution_count": null,
   "metadata": {
    "collapsed": true
   },
   "outputs": [],
   "source": [
    "with open('test10.pkl','rb') as f:\n",
    "    data_test = pickle.load(f)"
   ]
  },
  {
   "cell_type": "code",
   "execution_count": null,
   "metadata": {
    "collapsed": false
   },
   "outputs": [],
   "source": [
    "hmm.Y_index[hmm.omega_T[0][1]]"
   ]
  },
  {
   "cell_type": "code",
   "execution_count": null,
   "metadata": {
    "collapsed": false
   },
   "outputs": [],
   "source": [
    "errors = 0\n",
    "total = 0\n",
    "errors_letters = 0\n",
    "\n",
    "for word in data_test:\n",
    "    obs = []\n",
    "    true = []\n",
    "    for pair in word:\n",
    "        obs.append(pair[0])\n",
    "        true.append(hmm.Y_index[pair[1]])\n",
    "    ls_states = hmm.viterbi(obs)\n",
    "    print ls_states, true\n",
    "    for i in  range(len(ls_states)):\n",
    "        total+=1\n",
    "        if ls_states[i]!=true[i]:\n",
    "            errors_letters+=1\n",
    "print \"Error rate =\", errors_letters*1.0/total"
   ]
  }
 ],
 "metadata": {
  "kernelspec": {
   "display_name": "Python [Root]",
   "language": "python",
   "name": "Python [Root]"
  },
  "language_info": {
   "codemirror_mode": {
    "name": "ipython",
    "version": 2
   },
   "file_extension": ".py",
   "mimetype": "text/x-python",
   "name": "python",
   "nbconvert_exporter": "python",
   "pygments_lexer": "ipython2",
   "version": "2.7.12"
  }
 },
 "nbformat": 4,
 "nbformat_minor": 0
}
