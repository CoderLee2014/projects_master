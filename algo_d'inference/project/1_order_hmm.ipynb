{
 "cells": [
  {
   "cell_type": "code",
   "execution_count": 1,
   "metadata": {
    "collapsed": false
   },
   "outputs": [],
   "source": [
    "import pickle\n",
    "import numpy as np\n",
    "from numpy import array, ones,zeros\n",
    "import sys\n",
    "\n",
    "class HMM:\n",
    "    def __init__(self, \n",
    "               state_list,observation_list,\n",
    "               transition_proba=None, \n",
    "               observation_proba=None,\n",
    "               initial_state_proba=None,\n",
    "               smoothing_obs=0.01):\n",
    "        print \"HMM creating with: \"\n",
    "        self.N = len(state_list)#number of states\n",
    "        self.M = len(observation_list)#number of observation\n",
    "        print str(self.N)+\" states\"\n",
    "        print str(self.M)+\" observations.\"\n",
    "        self.omega_Y = state_list\n",
    "        self.omega_X = observation_list\n",
    "        if transition_proba is None:\n",
    "            self.transition_proba = zeros((self.N,self.N), float)\n",
    "        else:\n",
    "            self.transition_proba = transition_proba\n",
    "        if observation_proba is None:\n",
    "            self.observation_proba = zeros((self.M, self.N),float)\n",
    "        else:\n",
    "            self.observation_proba = observation_proba\n",
    "        if initial_state_proba is None:\n",
    "            self.initial_state_proba = zeros((self.N,),float)\n",
    "        self.make_indexes()\n",
    "        self.smoothing_obs = smoothing_obs\n",
    "    \n",
    "    def make_indexes(self):\n",
    "        self.Y_index = {}\n",
    "        for i in range(self.N):\n",
    "            self.Y_index[self.omega_Y[i]] = i\n",
    "        self.X_index = {}\n",
    "        for i in range(self.M):\n",
    "            self.X_index[self.omega_X[i]] = i\n",
    "            \n",
    "    def observation_estimation(self, pair_counts):\n",
    "        for pair in pair_counts:\n",
    "            obs = pair[0]\n",
    "            tag = pair[1]\n",
    "            cpt = pair_counts[pair]\n",
    "            k = 0\n",
    "            if obs in self.X_index:\n",
    "                k = self.X_index[obs]\n",
    "            i = self.Y_index[tag]\n",
    "            self.observation_proba[k,i] = cpt\n",
    "        \n",
    "        self.observation_proba = self.observation_proba + self.smoothing_obs\n",
    "        self.observation_proba = self.observation_proba/self.observation_proba.sum(axis=0).reshape(1,self.N)\n",
    "        \n",
    "    def transition_estimation(self, trans_counts):\n",
    "        for pair in trans_counts:\n",
    "            i = self.Y_index[pair[1]]\n",
    "            j = self.Y_index[pair[0]]\n",
    "            self.transition_proba[i,j] = trans_counts[pair]\n",
    "        self.transition_proba = self.transition_proba/self.transition_proba.sum(axis=0).reshape(1,self.N)\n",
    "        \n",
    "    def init_estimation(self, init_counts):\n",
    "        for tag in init_counts:\n",
    "            i = self.Y_index[tag]\n",
    "            self.initial_state_proba[i] = init_counts[tag]\n",
    "        self.initial_state_proba = self.initial_state_proba/sum(self.initial_state_proba)\n",
    "            \n",
    "    def supervised_training(self, pair_counts, trans_counts, init_counts):\n",
    "        self.observation_estimation(pair_counts)\n",
    "        self.transition_estimation(trans_counts)\n",
    "        self.init_estimation(init_counts)\n",
    "        \n",
    "    def viterbi(self, obs):#obs is chars sequence\n",
    "        V = [{}]\n",
    "        path = {}\n",
    "\n",
    "        # Initialize base cases (t == 0)\n",
    "        for y in range(self.N):\n",
    "            V[0][y] = self.initial_state_proba[y] * self.observation_proba[self.Y_index[obs[0]],y]\n",
    "            path[y] = [y]\n",
    "\n",
    "        # Run Viterbi for t > 0\n",
    "        for t in range(1,len(obs)):\n",
    "            V.append({})\n",
    "            newpath = {}\n",
    "\n",
    "            for y in range(self.N):\n",
    "                (prob, state) = max([(V[t-1][y0] * self.transition_proba[y,y0] * self.observation_proba[self.X_index[obs[t]],y], y0) for y0 in range(self.N)])\n",
    "                V[t][y] = prob\n",
    "                newpath[y] = path[state] + [y]\n",
    "\n",
    "            # Don't need to remember the old paths\n",
    "            path = newpath\n",
    "\n",
    "        (prob, state) = max([(V[len(obs) - 1][y], y) for y in range(self.N)])\n",
    "        return path[state]\n",
    "    \n",
    "with open('train10.pkl','rb') as f:\n",
    "    data = pickle.load(f)"
   ]
  },
  {
   "cell_type": "code",
   "execution_count": 2,
   "metadata": {
    "collapsed": false
   },
   "outputs": [
    {
     "data": {
      "text/plain": [
       "([('b', 'b'), ('y', 'y')],\n",
       " [('t', 't'), ('h', 'h'), ('e', 'e'), ('i', 'i'), ('r', 'r')],\n",
       " [('o', 'o'), ('w', 'w'), ('n', 'n')])"
      ]
     },
     "execution_count": 2,
     "metadata": {},
     "output_type": "execute_result"
    }
   ],
   "source": [
    "data[0], data[1], data[2]"
   ]
  },
  {
   "cell_type": "code",
   "execution_count": 3,
   "metadata": {
    "collapsed": false
   },
   "outputs": [
    {
     "data": {
      "text/plain": [
       "29057"
      ]
     },
     "execution_count": 3,
     "metadata": {},
     "output_type": "execute_result"
    }
   ],
   "source": [
    "len(data)"
   ]
  },
  {
   "cell_type": "code",
   "execution_count": 4,
   "metadata": {
    "collapsed": false
   },
   "outputs": [],
   "source": [
    "def error_counts(data):\n",
    "    error_words = 0\n",
    "    error_letters = 0\n",
    "    total_words = 0\n",
    "    total_letters = 0\n",
    "    is_error = False\n",
    "    for word in data:\n",
    "        total_words += 1\n",
    "        is_error = False\n",
    "        for pair in word:\n",
    "            total_letters += 1\n",
    "            if pair[0]!=pair[1]:\n",
    "                if is_error == False:\n",
    "                    error_words+=1\n",
    "                    error_letters+=1\n",
    "                    is_error=True\n",
    "                else:\n",
    "                    error_letters+=1\n",
    "\n",
    "    print \"total words :\", total_words\n",
    "    print \"total letters: \", total_letters\n",
    "    print \"Error words rate: \" ,error_words*1.0/total_words\n",
    "    print \"Error letter rate: \",error_letters*1.0/total_letters"
   ]
  },
  {
   "cell_type": "code",
   "execution_count": 5,
   "metadata": {
    "collapsed": false
   },
   "outputs": [
    {
     "name": "stdout",
     "output_type": "stream",
     "text": [
      "total words : 29057\n",
      "total letters:  143168\n",
      "Error words rate:  0.379942870909\n",
      "Error letter rate:  0.0996102481001\n"
     ]
    }
   ],
   "source": [
    "error_counts(data)"
   ]
  },
  {
   "cell_type": "code",
   "execution_count": 6,
   "metadata": {
    "collapsed": true
   },
   "outputs": [],
   "source": [
    "def make_counts(corpus):\n",
    "    c_tags = dict()\n",
    "    c_obs = dict()\n",
    "    c_trans = dict()\n",
    "    c_pairs = dict()\n",
    "    c_inits = dict()\n",
    "    for word in corpus:\n",
    "        for i in range(len(word)):\n",
    "            pair = word[i]\n",
    "            tag = pair[1]\n",
    "            obs = pair[0]\n",
    "            if tag in c_tags:\n",
    "                c_tags[tag]+=1\n",
    "            else:\n",
    "                c_tags[tag]=1\n",
    "            if obs in c_obs:\n",
    "                c_obs[obs]+=1\n",
    "            else:\n",
    "                c_obs[obs]=1\n",
    "            if pair in c_pairs:\n",
    "                c_pairs[pair]+=1\n",
    "            else:\n",
    "                c_pairs[pair]=1\n",
    "            if i>0:\n",
    "                trans = (word[i-1][1],tag)\n",
    "                if trans in c_trans:\n",
    "                    c_trans[trans]+=1\n",
    "                else:\n",
    "                    c_trans[trans]=1\n",
    "            else:\n",
    "                if tag in c_inits:\n",
    "                    c_inits[tag]+=1\n",
    "                else:\n",
    "                    c_inits[tag]=1\n",
    "    return c_obs, c_tags, c_pairs, c_trans, c_inits\n",
    "            "
   ]
  },
  {
   "cell_type": "code",
   "execution_count": 7,
   "metadata": {
    "collapsed": true
   },
   "outputs": [],
   "source": [
    "c_obs, c_tags, c_pairs, c_trans, c_inits = make_counts(data)"
   ]
  },
  {
   "cell_type": "code",
   "execution_count": 8,
   "metadata": {
    "collapsed": false
   },
   "outputs": [
    {
     "name": "stdout",
     "output_type": "stream",
     "text": [
      "{'a': 3093, 'c': 1210, 'b': 1429, 'e': 880, 'd': 853, 'g': 490, 'f': 1035, 'i': 2352, 'h': 1048, 'k': 79, 'j': 54, 'm': 1171, 'l': 675, 'o': 2291, 'n': 757, 'q': 34, 'p': 1535, 's': 2172, 'r': 758, 'u': 288, 't': 5058, 'w': 1582, 'v': 136, 'y': 74, 'x': 3}\n"
     ]
    }
   ],
   "source": [
    "print c_inits"
   ]
  },
  {
   "cell_type": "code",
   "execution_count": 9,
   "metadata": {
    "collapsed": false
   },
   "outputs": [
    {
     "name": "stdout",
     "output_type": "stream",
     "text": [
      "HMM creating with: \n",
      "26 states\n",
      "26 observations.\n"
     ]
    }
   ],
   "source": [
    "hmm = HMM(c_tags.keys(),c_obs.keys(),transition_proba=None,\n",
    "         observation_proba=None,\n",
    "         initial_state_proba=None,smoothing_obs=0.001)\n",
    "hmm.supervised_training(c_pairs, c_trans, c_inits)"
   ]
  },
  {
   "cell_type": "code",
   "execution_count": 10,
   "metadata": {
    "collapsed": false
   },
   "outputs": [
    {
     "name": "stdout",
     "output_type": "stream",
     "text": [
      "1.0\n"
     ]
    }
   ],
   "source": [
    "print sum(hmm.initial_state_proba)"
   ]
  },
  {
   "cell_type": "code",
   "execution_count": 11,
   "metadata": {
    "collapsed": true
   },
   "outputs": [],
   "source": [
    "with open('test20.pkl','rb') as f:\n",
    "    data_test = pickle.load(f)"
   ]
  },
  {
   "cell_type": "code",
   "execution_count": 12,
   "metadata": {
    "collapsed": false,
    "scrolled": true
   },
   "outputs": [
    {
     "name": "stdout",
     "output_type": "stream",
     "text": [
      "Error rate = 0.13234677371\n"
     ]
    }
   ],
   "source": [
    "errors = 0\n",
    "total = 0\n",
    "errors_letters = 0\n",
    "\n",
    "for word in data_test:\n",
    "    obs = []\n",
    "    true = []\n",
    "    for pair in word:\n",
    "        obs.append(pair[0])\n",
    "        true.append(hmm.Y_index[pair[1]])\n",
    "    ls_states = hmm.viterbi(obs)\n",
    "\n",
    "    for i in  range(len(ls_states)):\n",
    "        total+=1\n",
    "        if ls_states[i]!=true[i]:\n",
    "            errors_letters+=1\n",
    "print \"Error rate =\", errors_letters*1.0/total"
   ]
  },
  {
   "cell_type": "code",
   "execution_count": 13,
   "metadata": {
    "collapsed": false
   },
   "outputs": [
    {
     "name": "stdout",
     "output_type": "stream",
     "text": [
      "total words : 3374\n",
      "total letters:  16691\n",
      "Error words rate:  0.593360995851\n",
      "Error letter rate:  0.194056677251\n"
     ]
    }
   ],
   "source": [
    "error_counts(data_test)"
   ]
  },
  {
   "cell_type": "code",
   "execution_count": 14,
   "metadata": {
    "collapsed": false
   },
   "outputs": [
    {
     "name": "stdout",
     "output_type": "stream",
     "text": [
      "[1]\n"
     ]
    }
   ],
   "source": [
    "#test for the dict usage\n",
    "path={}\n",
    "path[1]=[1]\n",
    "print path[1]"
   ]
  }
 ],
 "metadata": {
  "anaconda-cloud": {},
  "kernelspec": {
   "display_name": "Python [Root]",
   "language": "python",
   "name": "Python [Root]"
  },
  "language_info": {
   "codemirror_mode": {
    "name": "ipython",
    "version": 2
   },
   "file_extension": ".py",
   "mimetype": "text/x-python",
   "name": "python",
   "nbconvert_exporter": "python",
   "pygments_lexer": "ipython2",
   "version": "2.7.12"
  }
 },
 "nbformat": 4,
 "nbformat_minor": 0
}
