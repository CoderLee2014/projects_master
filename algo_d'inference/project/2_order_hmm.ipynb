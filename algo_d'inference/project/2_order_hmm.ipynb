{
 "cells": [
  {
   "cell_type": "code",
   "execution_count": 11,
   "metadata": {
    "collapsed": false
   },
   "outputs": [],
   "source": [
    "import pickle\n",
    "import numpy as np\n",
    "from numpy import array, ones,zeros\n",
    "import sys\n",
    "\n",
    "class HMM:\n",
    "    def __init__(self, \n",
    "               state_list,observation_list,\n",
    "               transition_proba=None, \n",
    "               observation_proba=None,\n",
    "               initial_state_proba=None,\n",
    "               smoothing_obs=0.01):\n",
    "        print \"HMM creating with: \"\n",
    "        self.N = len(state_list)#number of states\n",
    "        self.M = len(observation_list)#number of observation\n",
    "        print str(self.N)+\" states\"\n",
    "        print str(self.M)+\" observations.\"\n",
    "        self.omega_Y = state_list\n",
    "        self.omega_X = observation_list\n",
    "        if transition_proba is None:\n",
    "            self.transition_proba = zeros((self.N,self.N), float)\n",
    "        else:\n",
    "            self.transition_proba = transition_proba\n",
    "        if observation_proba is None:\n",
    "            self.observation_proba = zeros((self.M, self.N),float)\n",
    "        else:\n",
    "            self.observation_proba = observation_proba\n",
    "        if initial_state_proba is None:\n",
    "            self.initial_state_proba = zeros((self.N,),float)\n",
    "        self.make_indexes()\n",
    "        self.smoothing_obs = smoothing_obs\n",
    "    \n",
    "    def make_indexes(self):\n",
    "        self.Y_index = {}\n",
    "        for i in range(self.N):\n",
    "            self.Y_index[self.omega_Y[i]] = i\n",
    "        self.X_index = {}\n",
    "        for i in range(self.M):\n",
    "            self.X_index[self.omega_X[i]] = i\n",
    "            \n",
    "    def observation_estimation(self, pair_counts):\n",
    "        for pair in pair_counts:\n",
    "            obs = pair[0]\n",
    "            tag = pair[1]\n",
    "            cpt = pair_counts[pair]\n",
    "            k = 0\n",
    "            if obs in self.X_index:\n",
    "                k = self.X_index[obs]\n",
    "            i = self.Y_index[tag]\n",
    "            self.observation_proba[k,i] = cpt\n",
    "        \n",
    "        self.observation_proba = self.observation_proba + self.smoothing_obs\n",
    "        self.observation_proba = self.observation_proba/self.observation_proba.sum(axis=0).reshape(1,self.N)\n",
    "        \n",
    "    def transition_estimation(self, trans_counts):\n",
    "        for pair in trans_counts:\n",
    "            i = self.Y_index[pair[1]]\n",
    "            j = self.Y_index[pair[0]]\n",
    "            self.transition_proba[i,j] = trans_counts[pair]\n",
    "        self.transition_proba = self.transition_proba/self.transition_proba.sum(axis=0).reshape(1,self.N)\n",
    "        \n",
    "    def init_estimation(self, init_counts):\n",
    "        for tag in init_counts:\n",
    "            i = self.Y_index[tag]\n",
    "            self.initial_state_proba[i] = init_counts[tag]\n",
    "        self.initial_state_proba = self.initial_state_proba/sum(self.initial_state_proba)\n",
    "            \n",
    "    def supervised_training(self, pair_counts, trans_counts, init_counts):\n",
    "        self.observation_estimation(pair_counts)\n",
    "        self.transition_estimation(trans_counts)\n",
    "        self.init_estimation(init_counts)\n",
    "        \n",
    "    def viterbi(self, obs):#obs is chars sequence\n",
    "        V = [{}]\n",
    "        path = {}\n",
    "\n",
    "        # Initialize base cases (t == 0)\n",
    "        for y in range(self.N):\n",
    "            V[0][y] = self.initial_state_proba[y] * self.observation_proba[y,self.X_index[obs[0]]]\n",
    "            path[y] = [y]\n",
    "\n",
    "        # Run Viterbi for t > 0\n",
    "        for t in range(1,len(obs)):\n",
    "            V.append({})\n",
    "            newpath = {}\n",
    "\n",
    "            for y in range(self.N):\n",
    "                (prob, state) = max([(V[t-1][y0] * self.transition_proba[y,y0] * self.observation_proba[self.X_index[obs[t]],y], y0) for y0 in range(self.N)])\n",
    "                V[t][y] = prob\n",
    "                newpath[y] = path[state] + [y]\n",
    "\n",
    "            # Don't need to remember the old paths\n",
    "            path = newpath\n",
    "\n",
    "        (prob, state) = max([(V[len(obs) - 1][y], y) for y in range(self.N)])\n",
    "        return path[state]\n",
    "    \n",
    "    def viterbi_2(self,c_trans_2,obs,c_obs_2,couple):\n",
    "        l = len(obs)\n",
    "        obs_list = self.omega_X\n",
    "        if l < 3:\n",
    "            ls_states = self.viterbi(obs)\n",
    "            return ls_states\n",
    "        else:\n",
    "            V1 = []\n",
    "            for i in couple:\n",
    "                for j in range(l-1):\n",
    "                    V1.append((j,i))\n",
    "            V = dict.fromkeys(V1)\n",
    "            path = dict.fromkeys(V1)\n",
    "            for i in V:\n",
    "                V[i] = 0\n",
    "            for y in couple:\n",
    "                mot0 = self.X_index[y[0]]\n",
    "                mot1 = self.X_index[y[1]]\n",
    "                obs0 = self.X_index[obs[0]]\n",
    "                obs1 = self.X_index[obs[1]]\n",
    "                V[0,y] = self.initial_state_proba[mot0]*self.observation_proba[obs0,mot0]*self.observation_proba[obs1,mot1]*self.transition_proba[mot1,mot0]\n",
    "                path[0,y] = 0\n",
    "            for t in range(1,l-1):\n",
    "                for y in couple:\n",
    "                    (j,k) = y\n",
    "                    (proba,state) = max([(V[t-1,(i,j)]*c_trans_2[((i,j),k)]*c_obs_2[((j,k),obs[t+1])],i) for i in obs_list])\n",
    "                    V[t,y] = proba\n",
    "                    path[t,y] = state\n",
    "            result = []\n",
    "            for j in V:\n",
    "                if j[0] == l-2:\n",
    "                    result.append((V[j],j))\n",
    "            last2,last1 = max(result)[1][1]\n",
    "            list_state = []\n",
    "            list_state.append(last1)\n",
    "            list_state.append(last2)\n",
    "            search_couple = (last2,last1)\n",
    "            for i in reversed(range(l-2)):\n",
    "                last = path[i+1,(search_couple)]\n",
    "                list_state.append(last)\n",
    "                search_couple = (list_state[-1],list_state[-2])\n",
    "            list_state.reverse()\n",
    "            ls_state = []\n",
    "            for i in list_state:\n",
    "                ls_state.append(hmm.X_index[i])\n",
    "            return ls_state\n",
    "    \n",
    "with open('train10.pkl','rb') as f:\n",
    "    data = pickle.load(f)"
   ]
  },
  {
   "cell_type": "code",
   "execution_count": 12,
   "metadata": {
    "collapsed": true
   },
   "outputs": [],
   "source": [
    "def make_counts(corpus):\n",
    "    c_tags = dict()\n",
    "    c_obs = dict()\n",
    "    c_trans = dict()\n",
    "    c_pairs = dict()\n",
    "    c_inits = dict()\n",
    "    for word in corpus:\n",
    "        for i in range(len(word)):\n",
    "            pair = word[i]\n",
    "            tag = pair[1]\n",
    "            obs = pair[0]\n",
    "            if tag in c_tags:\n",
    "                c_tags[tag]+=1\n",
    "            else:\n",
    "                c_tags[tag]=1\n",
    "            if obs in c_obs:\n",
    "                c_obs[obs]+=1\n",
    "            else:\n",
    "                c_obs[obs]=1\n",
    "            if pair in c_pairs:\n",
    "                c_pairs[pair]+=1\n",
    "            else:\n",
    "                c_pairs[pair]=1\n",
    "            if i>0:\n",
    "                trans = (word[i-1][1],tag)\n",
    "                if trans in c_trans:\n",
    "                    c_trans[trans]+=1\n",
    "                else:\n",
    "                    c_trans[trans]=1\n",
    "            else:\n",
    "                if tag in c_inits:\n",
    "                    c_inits[tag]+=1\n",
    "                else:\n",
    "                    c_inits[tag]=1\n",
    "    return c_obs, c_tags, c_pairs, c_trans, c_inits"
   ]
  },
  {
   "cell_type": "code",
   "execution_count": 13,
   "metadata": {
    "collapsed": false
   },
   "outputs": [],
   "source": [
    "c_obs, c_tags, c_pairs, c_trans, c_inits = make_counts(data)"
   ]
  },
  {
   "cell_type": "code",
   "execution_count": 14,
   "metadata": {
    "collapsed": false
   },
   "outputs": [
    {
     "name": "stdout",
     "output_type": "stream",
     "text": [
      "HMM creating with: \n",
      "26 states\n",
      "26 observations.\n"
     ]
    }
   ],
   "source": [
    "hmm = HMM(c_tags.keys(),c_obs.keys(),transition_proba=None,\n",
    "         observation_proba=None,\n",
    "         initial_state_proba=None,smoothing_obs=0.001)\n",
    "hmm.supervised_training(c_pairs, c_trans, c_inits)"
   ]
  },
  {
   "cell_type": "code",
   "execution_count": 15,
   "metadata": {
    "collapsed": false
   },
   "outputs": [],
   "source": [
    "x = []\n",
    "y = []\n",
    "for i in c_tags:\n",
    "    for j in c_tags:\n",
    "        for k in c_tags:\n",
    "            x.append(((i,j),k))\n",
    "        y.append((i,j))\n",
    "c_trans_2 = dict.fromkeys(x)\n",
    "c_counter_2 = dict.fromkeys(y)\n",
    "for i in c_trans_2:\n",
    "    c_trans_2[i] = 0\n",
    "for j in c_counter_2:\n",
    "    c_counter_2[j] = 0\n",
    "    "
   ]
  },
  {
   "cell_type": "code",
   "execution_count": 16,
   "metadata": {
    "collapsed": false
   },
   "outputs": [],
   "source": [
    "for i in data:\n",
    "    if len(i)>2:\n",
    "        for j in range(len(i)-2):\n",
    "            c_counter_2[(i[j][1],i[j+1][1])] += 1\n",
    "            c_trans_2[((i[j][1],i[j+1][1]),i[j+2][1])] += 1"
   ]
  },
  {
   "cell_type": "code",
   "execution_count": 17,
   "metadata": {
    "collapsed": false
   },
   "outputs": [],
   "source": [
    "from __future__ import division\n",
    "for i in c_trans_2:\n",
    "    if c_trans_2[i] !=0:\n",
    "        c_trans_2[i] = c_trans_2[i] / c_counter_2[i[0]]"
   ]
  },
  {
   "cell_type": "code",
   "execution_count": 18,
   "metadata": {
    "collapsed": false
   },
   "outputs": [],
   "source": [
    "c_obs_2 = dict.fromkeys(x)\n",
    "c_obs_counter = dict.fromkeys(y)\n",
    "for i in c_obs_2:\n",
    "    c_obs_2[i] = 0\n",
    "for i in c_obs_counter:\n",
    "    c_obs_counter[i] = 0\n",
    "for i in data:\n",
    "    if len(i)>2:\n",
    "        for j in range(len(i)-1):\n",
    "            c_obs_2[((i[j][1],i[j+1][1]),i[j+1][0])] +=1\n",
    "            c_obs_counter[(i[j][1],i[j+1][1])] +=1\n",
    "for i in c_obs_2:\n",
    "    if c_obs_2[i] != 0:\n",
    "        c_obs_2[i] = c_obs_2[i] / c_obs_counter[i[0]] "
   ]
  },
  {
   "cell_type": "code",
   "execution_count": 19,
   "metadata": {
    "collapsed": false
   },
   "outputs": [
    {
     "name": "stdout",
     "output_type": "stream",
     "text": [
      "Error rate = 0.0821999880175\n"
     ]
    }
   ],
   "source": [
    "with open('test20.pkl','rb') as f:\n",
    "    data_test = pickle.load(f)\n",
    "errors = 0\n",
    "total = 0\n",
    "errors_letters = 0\n",
    "\n",
    "for word in data_test:\n",
    "    obs = []\n",
    "    true = []\n",
    "    for pair in word:\n",
    "        obs.append(pair[0])\n",
    "        true.append(hmm.Y_index[pair[1]])\n",
    "    ls_states = hmm.viterbi_2(c_trans_2, obs, c_obs_2, y)\n",
    "\n",
    "    for i in  range(len(ls_states)):\n",
    "        total+=1\n",
    "        if ls_states[i]!=true[i]:\n",
    "            errors_letters+=1\n",
    "print \"Error rate =\", errors_letters*1.0/total"
   ]
  }
 ],
 "metadata": {
  "kernelspec": {
   "display_name": "Python [Root]",
   "language": "python",
   "name": "Python [Root]"
  },
  "language_info": {
   "codemirror_mode": {
    "name": "ipython",
    "version": 2
   },
   "file_extension": ".py",
   "mimetype": "text/x-python",
   "name": "python",
   "nbconvert_exporter": "python",
   "pygments_lexer": "ipython2",
   "version": "2.7.12"
  }
 },
 "nbformat": 4,
 "nbformat_minor": 1
}
