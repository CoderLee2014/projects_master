{
 "cells": [
  {
   "cell_type": "markdown",
   "metadata": {
    "slideshow": {
     "slide_type": "slide"
    }
   },
   "source": [
    "# Introduction\n",
    "\n",
    "Ce TP continue le TP précédent. Nous allons reprendre d'ailleurs les mêmes données et commencer la mise en oeuvre d'un modèle de Markov pour la prédiction des étiquettes: \n",
    "* une observation est une phrase, représentée comme une séquence de variables aléatoires, une par mot de la phrase\n",
    "* à cette observation est associée une séquence de variables aléatoires représentant les étiquettes, une par mot de la phrase également\n",
    "\n",
    "On suppose que la séquence d'observation (une phrase) est générée par un modèle de Markov caché. Les variables cachées sont donc les étiquettes à inférer. Nous allons commencer par écrire une classe python pour représenter le HMM. Cette classe évoluera au fil des TPs. \n",
    "\n",
    "Pour cela le code de départ suivant est donné: "
   ]
  },
  {
   "cell_type": "code",
   "execution_count": 26,
   "metadata": {
    "collapsed": false
   },
   "outputs": [],
   "source": [
    "import nltk\n",
    "from numpy import array, ones, zeros\n",
    "import sys\n",
    "\n",
    "# Some words in test could be unseen during training, or out of the vocabulary (OOV) even during the training. \n",
    "# To manage OOVs, all words out the vocabulary are mapped on a special token. \n",
    "UNK = \"<unk>\" \n",
    "UNKid = 0 \n",
    "\n",
    "class HMM:\n",
    "        def __init__(self, state_list, observation_list,\n",
    "                 transition_proba = None,\n",
    "                 observation_proba = None,\n",
    "                 initial_state_proba = None, smoothing_obs=0.01):\n",
    "            \"\"\"Builds a new Hidden Markov Model\n",
    "            state_list is the list of state symbols [q_0...q_(N-1)]\n",
    "            observation_list is the list of observation symbols [v_0...v_(M-1)]\n",
    "            transition_proba is the transition probability matrix\n",
    "                [a_ij] a_ij = Pr(Y_(t+1)=q_i|Y_t=q_j)\n",
    "            observation_proba is the observation probablility matrix\n",
    "                [b_ki] b_ki = Pr(X_t=v_k|Y_t=q_i)\n",
    "            initial_state_proba is the initial state distribution\n",
    "                [pi_i] pi_i = Pr(Y_0=q_i)\"\"\"\n",
    "            print \"HMM creating with: \"\n",
    "            self.N = len(state_list) # The number of states\n",
    "            self.M = len(observation_list) # The number of words in the vocabulary\n",
    "            print str(self.N)+\" states\"\n",
    "            print str(self.M)+\" observations\"\n",
    "            self.omega_Y = state_list # Keep the vocabulary of tags\n",
    "            self.omega_X = observation_list # Keep the vocabulary of tags\n",
    "            # Init. of the 3 distributions : observation, transition and initial states\n",
    "            if transition_proba is None:\n",
    "                self.transition_proba = zeros( (self.N, self.N), float) \n",
    "            else:\n",
    "                self.transition_proba=transition_proba\n",
    "            if observation_proba is None:\n",
    "                self.observation_proba = zeros( (self.M, self.N), float) \n",
    "            else:\n",
    "                self.observation_proba=observation_proba\n",
    "            if initial_state_proba is None:\n",
    "                self.initial_state_proba = zeros( (self.N,), float ) \n",
    "            else:\n",
    "                self.initial_state_proba=initial_state_proba\n",
    "            # Since everything will be stored in numpy arrays, it is more convenient and compact to \n",
    "            # handle words and tags as indices (integer) for a direct access. However, we also need \n",
    "            # to keep the mapping between strings (word or tag) and indices. \n",
    "            self.make_indexes()\n",
    "            self.smoothing_obs = smoothing_obs\n",
    "\n",
    "        def make_indexes(self):\n",
    "            \"\"\"Creates the reverse table that maps states/observations names\n",
    "            to their index in the probabilities arrays\"\"\"\n",
    "            self.Y_index = {}\n",
    "            for i in range(self.N):\n",
    "                self.Y_index[self.omega_Y[i]] = i\n",
    "            self.X_index = {}\n",
    "            for i in range(self.M):\n",
    "                self.X_index[self.omega_X[i]] = i\n",
    "                \n",
    "        def observation_estimation(self, pair_counts):\n",
    "            \"\"\"\n",
    "            Build the observation distribution:\n",
    "            observation_proba is the observation probability matrix\n",
    "            [b_ki], b_ki = Pr(X_t = v_k | Y_t = q_i)\n",
    "            \"\"\"\n",
    "            #fill with counts\n",
    "            for pair in pair_counts:\n",
    "                wrd = pair[0]\n",
    "                tag = pair[1]\n",
    "                cpt = pair_counts[pair]\n",
    "                k=0\n",
    "                if wrd in self.X_index:\n",
    "                    k = self.X_index[wrd]\n",
    "                i = self.Y_index[tag]\n",
    "                self.observation_proba[k,i] = cpt\n",
    "            #normalize\n",
    "            self.observation_proba = self.observation_proba + self.smoothing_obs\n",
    "            self.observation_proba = self.observation_proba/self.observation_proba.sum(axis = 0).reshape(1,self.N)\n",
    "        \n",
    "        def transition_estimation(self, trans_counts):\n",
    "            \"\"\"\n",
    "            Build the transition distribution:\n",
    "            transition_proba is the transition probablity matrix\n",
    "            [a_ij], a[i,j] = Pr(Y_(t+1) = q_i| Y_t = q_j)\n",
    "            \"\"\"\n",
    "            #fill with counts\n",
    "            for pair in trans_counts:\n",
    "                i = self.Y_index[pair[1]]\n",
    "                j = self.Y_index[pair[0]]\n",
    "                self.transition_proba[i,j] = trans_counts[pair]\n",
    "            #normalize\n",
    "            self.transition_proba = self.transition_proba/self.transition_proba.sum(axis=0).reshape(1, self.N)\n",
    "        \n",
    "        def init_estimation(self, init_counts):\n",
    "            \"\"\"\n",
    "            Build the init distribution\n",
    "            \"\"\"\n",
    "            for tag in init_counts:\n",
    "                i = self.Y_index[tag]\n",
    "                self.initial_state_proba[i]=init_counts[tag]\n",
    "        \n",
    "            self.initial_state_proba = self.initial_state_proba/sum(self.initial_state_proba)\n",
    "                \n",
    "        def supervised_training(self, pair_counts, trans_counts, init_counts):\n",
    "            \"\"\"train the HMM's params\"\"\"\n",
    "            self.observation_estimation(pair_counts)\n",
    "            self.transition_estimation(trans_counts)\n",
    "            self.init_estimation(init_counts)\n",
    "            "
   ]
  },
  {
   "cell_type": "markdown",
   "metadata": {},
   "source": [
    "\n",
    "\n",
    "\n",
    "# Exercice : Algorithme de Viterbi\n",
    "\n",
    "La question qui se pose est comment calculer la meilleure séquence d'étiquettes pour une phrase donnée connaissant les paramètres du HMM. Par meilleure, on entend la séquence d'étiquettes (ou d'états) la plus probable connaissant la séquence d'obervation. \n",
    "\n",
    "Proposer et implémenter un algorithme répondant à cette question. Pour vous aider à démarrer, cet algorithme s'appelle Viterbi et regardez cette vidéo https://www.youtube.com/watch?v=RwwfUICZLsA, pour comprendre comment il opère. \n",
    "\n",
    "# TODO pour le 18/10/2016\n",
    "\n",
    "* Finir la partie interface (qui comprend l'apprentissage supervisé)\n",
    "* Regarder la vidéo et implémenter l'algorithme de Viterbi\n",
    "\n",
    "# TODO pour le 08/11/2016\n",
    "\n",
    "* Calculer le taux d'erreur de prédiction sur les données de test\n",
    "    * Implémenter une fonction effectuant l'inférence sur un jeu de donnée et qui calcul le taux d'erreur\n",
    "* Il peut être avantageux de lisser les distributions d'observation. Expliquer pourquoi et implémenter le \n",
    "* Choisir la bonne valeur de lissage sur les données de développement (en regardant le taux d'erreur) et constater l'effet sur les données de test\n",
    "\n"
   ]
  },
  {
   "cell_type": "markdown",
   "metadata": {},
   "source": [
    "# Interface avec les données et apprentissage supervisé\n",
    "\n",
    "Ainsi pour initialiser un HMM, nous allons devoir lire les données (chose faîte lors du TP précédent): \n",
    "* écrire une fonction permettant d'initialiser le HMM à partir des données d'apprentissage\n",
    "* écrire une fonction *apprentissage_supervisé* qui permet d'estimer les paramètres \n",
    "\n",
    "Dans un premier temps, nous limiterons, comme lors du TP précédent, le vocabulaire aux mots apparaissant 10 fois ou plus. Les autres mots sont tous remplacés par la même forme *unk*\n",
    "\n",
    "Pour cela, le plan de travail peut être envisagé ainsi: \n",
    "* Lire les données puis générer un corpus de **train** (80%) puis de **test** (10%)\n",
    "* écrire une fonction qui créer à partir des données d'apprentissage (**train**), tous les comptes nécessaires pour l'estimation supervisée des paramètres du HMM\n",
    "* écrire 3 fonctions qui estimes les paramètres à partir des comptes, une fonction par distribution: observation, transition, état initial. \n",
    "* écrire une fonction qui reprend le tout et qui estime tous les paramètres du HMM\n"
   ]
  },
  {
   "cell_type": "code",
   "execution_count": 13,
   "metadata": {
    "collapsed": true
   },
   "outputs": [],
   "source": [
    "#compter les mots et les tags\n",
    "def make_count(corpus):\n",
    "    \"\"\"\n",
    "    Build different count tables to train a HMM. Each conut table is a dictionary.\n",
    "    Returns:\n",
    "    * c_words: word counts\n",
    "    * c_tags: tag counts\n",
    "    * c_pairs: count of pairs (word, tag)\n",
    "    * c_transitions: count of tag bigram\n",
    "    * c_inits: count of tag found in the first position\n",
    "    \"\"\"\n",
    "    c_words = dict()\n",
    "    c_tags = dict()\n",
    "    c_pairs = dict()\n",
    "    c_transitions = dict()\n",
    "    c_inits = dict()\n",
    "    for sent in corpus:\n",
    "        #we use i because of the transition counts\n",
    "        for i in range(len(sent)):\n",
    "            couple = sent[i]\n",
    "            wrd = couple[0]\n",
    "            tag = couple[1]\n",
    "            #word counts\n",
    "            if wrd in c_words:\n",
    "                c_words[wrd] = c_words[wrd] + 1\n",
    "            else:\n",
    "                c_words[wrd] = 1\n",
    "            #tag counts\n",
    "            if tag in c_tags:\n",
    "                c_tags[tag] = c_tags[tag] + 1\n",
    "            else:\n",
    "                c_tags[tag] = 1\n",
    "            #observation counts\n",
    "            if couple in c_pairs:\n",
    "                c_pairs[couple] = c_pairs[couple] + 1\n",
    "            else:\n",
    "                c_pairs[couple] = 1\n",
    "            #i>0 -> transition counts\n",
    "            if i>0:\n",
    "                trans = (sent[i-1][1], tag)\n",
    "                if trans in c_transitions:\n",
    "                    c_transitions[trans] = c_transitions[trans] + 1\n",
    "                else:\n",
    "                    c_transitions[trans] = 1\n",
    "            # i ==0 -> counts for initial states\n",
    "            else:\n",
    "                if tag in c_inits:\n",
    "                    c_inits[tag] = c_inits[tag] + 1\n",
    "                else:\n",
    "                    c_inits[tag] = 1\n",
    "    \n",
    "    return c_words, c_tags, c_pairs, c_transitions, c_inits\n",
    "            \n",
    "            "
   ]
  },
  {
   "cell_type": "code",
   "execution_count": 5,
   "metadata": {
    "collapsed": true
   },
   "outputs": [],
   "source": [
    "#creation of vocabulaire\n",
    "def make_vocab(c_words, threshold):\n",
    "    vocab = list()\n",
    "    vocab.append('unk')\n",
    "    for word in c_words:\n",
    "        if(c_words[word] >= threshold):\n",
    "            vocab.append(word)\n",
    "    return vocab"
   ]
  },
  {
   "cell_type": "code",
   "execution_count": 6,
   "metadata": {
    "collapsed": true
   },
   "outputs": [],
   "source": [
    "import nltk\n",
    "data = nltk.corpus.brown.tagged_sents(tagset='universal')"
   ]
  },
  {
   "cell_type": "code",
   "execution_count": 7,
   "metadata": {
    "collapsed": false
   },
   "outputs": [
    {
     "data": {
      "text/plain": [
       "57340"
      ]
     },
     "execution_count": 7,
     "metadata": {},
     "output_type": "execute_result"
    }
   ],
   "source": [
    "len(data)"
   ]
  },
  {
   "cell_type": "code",
   "execution_count": 8,
   "metadata": {
    "collapsed": true
   },
   "outputs": [],
   "source": [
    "trainpart = 0.8\n",
    "testpart = 0.1\n",
    "i = int(len(data)*trainpart)\n",
    "train = data[0:i]\n",
    "test = data[i:i+int(len(data)*testpart)]"
   ]
  },
  {
   "cell_type": "code",
   "execution_count": 9,
   "metadata": {
    "collapsed": false
   },
   "outputs": [
    {
     "name": "stdout",
     "output_type": "stream",
     "text": [
      "Nombre de phrase de train = 45872\n",
      "Nombre de phrase de test =5734\n"
     ]
    }
   ],
   "source": [
    "print \"Nombre de phrase de train = \"+str(len(train))\n",
    "print \"Nombre de phrase de test =\"+str(len(test))"
   ]
  },
  {
   "cell_type": "code",
   "execution_count": 15,
   "metadata": {
    "collapsed": false
   },
   "outputs": [
    {
     "name": "stdout",
     "output_type": "stream",
     "text": [
      "Nombre de mots :51461\n",
      "Nombre de tags :12\n",
      "Nombre de pairs :54944\n",
      "Nombre de trans :143\n",
      "Nombre de init:12\n"
     ]
    }
   ],
   "source": [
    "cwords, ctags, cpairs, ctrans, cinits = make_count(train)\n",
    "print \"Nombre de mots :\"+str(len(cwords))\n",
    "print \"Nombre de tags :\"+str(len(ctags))\n",
    "print \"Nombre de pairs :\"+str(len(cpairs))\n",
    "print \"Nombre de trans :\"+str(len(ctrans))\n",
    "print \"Nombre de init:\"+str(len(cinits))\n"
   ]
  },
  {
   "cell_type": "code",
   "execution_count": 16,
   "metadata": {
    "collapsed": false
   },
   "outputs": [
    {
     "name": "stdout",
     "output_type": "stream",
     "text": [
      "{u'ADV': 45940, u'NOUN': 241528, u'ADP': 126332, u'PRON': 35550, u'DET': 116989, u'.': 118482, u'PRT': 23316, u'VERB': 150459, u'X': 1205, u'NUM': 13802, u'CONJ': 32177, u'ADJ': 73866}\n",
      "vocabulaire :7991\n"
     ]
    }
   ],
   "source": [
    "print ctags\n",
    "vocab = make_vocab(cwords,10)\n",
    "print \"vocabulaire :\"+str(len(vocab))"
   ]
  },
  {
   "cell_type": "markdown",
   "metadata": {},
   "source": [
    "#Creation du HMM"
   ]
  },
  {
   "cell_type": "code",
   "execution_count": 28,
   "metadata": {
    "collapsed": false
   },
   "outputs": [
    {
     "name": "stdout",
     "output_type": "stream",
     "text": [
      "HMM creating with: \n",
      "12 states\n",
      "7991 observations\n"
     ]
    }
   ],
   "source": [
    "hmm = HMM(state_list=ctags.keys(), observation_list=vocab,transition_proba=None,\n",
    "         observation_proba=None,\n",
    "         initial_state_proba=None,smoothing_obs=0.001)\n",
    "hmm.supervised_training(cpairs,ctrans,cinits)"
   ]
  },
  {
   "cell_type": "code",
   "execution_count": 29,
   "metadata": {
    "collapsed": false
   },
   "outputs": [
    {
     "data": {
      "text/plain": [
       "array([ 1.,  1.,  1.,  1.,  1.,  1.,  1.,  1.,  1.,  1.,  1.,  1.])"
      ]
     },
     "execution_count": 29,
     "metadata": {},
     "output_type": "execute_result"
    }
   ],
   "source": [
    "hmm.transition_proba.sum(axis=0)"
   ]
  },
  {
   "cell_type": "code",
   "execution_count": 34,
   "metadata": {
    "collapsed": false
   },
   "outputs": [
    {
     "name": "stdout",
     "output_type": "stream",
     "text": [
      "1.0\n"
     ]
    }
   ],
   "source": [
    "print sum(hmm.initial_state_proba)"
   ]
  }
 ],
 "metadata": {
  "anaconda-cloud": {},
  "kernelspec": {
   "display_name": "Python [Root]",
   "language": "python",
   "name": "Python [Root]"
  },
  "language_info": {
   "codemirror_mode": {
    "name": "ipython",
    "version": 2
   },
   "file_extension": ".py",
   "mimetype": "text/x-python",
   "name": "python",
   "nbconvert_exporter": "python",
   "pygments_lexer": "ipython2",
   "version": "2.7.12"
  }
 },
 "nbformat": 4,
 "nbformat_minor": 0
}
